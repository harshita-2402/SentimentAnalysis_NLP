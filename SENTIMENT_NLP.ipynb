{
  "nbformat": 4,
  "nbformat_minor": 0,
  "metadata": {
    "colab": {
      "name": "SENTIMENT_NLP.ipynb",
      "provenance": [],
      "collapsed_sections": []
    },
    "kernelspec": {
      "name": "python3",
      "display_name": "Python 3"
    },
    "language_info": {
      "name": "python"
    }
  },
  "cells": [
    {
      "cell_type": "markdown",
      "source": [
        "#**SENTIMENT ANALYSIS**\n",
        "###Import Libraries"
      ],
      "metadata": {
        "id": "-AjOkIvo0tEP"
      }
    },
    {
      "cell_type": "code",
      "execution_count": 1,
      "metadata": {
        "colab": {
          "base_uri": "https://localhost:8080/"
        },
        "id": "YviNVbl3-T4h",
        "outputId": "abdb5b8a-c3a8-4371-a626-78be6c372cb7"
      },
      "outputs": [
        {
          "output_type": "stream",
          "name": "stdout",
          "text": [
            "[nltk_data] Downloading package wordnet to /root/nltk_data...\n",
            "[nltk_data]   Unzipping corpora/wordnet.zip.\n",
            "[nltk_data] Downloading package stopwords to /root/nltk_data...\n",
            "[nltk_data]   Unzipping corpora/stopwords.zip.\n"
          ]
        }
      ],
      "source": [
        "import numpy as np # linear algebra\n",
        "import pandas as pd # data processing, (pd.read_csv)\n",
        "import matplotlib.pyplot as plt\n",
        "import math\n",
        "import mlxtend\n",
        "import sklearn.cluster as cluster\n",
        "import sklearn.neighbors\n",
        "import sklearn.metrics as metrics\n",
        "import re\n",
        "from nltk.corpus import stopwords\n",
        "from sklearn.feature_extraction.text import CountVectorizer\n",
        "from sklearn.metrics.pairwise import cosine_similarity\n",
        "import string\n",
        "from sklearn.linear_model import LogisticRegression\n",
        "from sklearn.model_selection import train_test_split\n",
        "from sklearn.model_selection import cross_val_score\n",
        "from sklearn.feature_extraction.text import TfidfTransformer\n",
        "from sklearn.naive_bayes import MultinomialNB\n",
        "from sklearn.metrics import classification_report,confusion_matrix, roc_curve, auc, precision_score, recall_score, f1_score, precision_recall_curve\n",
        "import nltk\n",
        "nltk.download('wordnet')\n",
        "nltk.download('stopwords')\n",
        "from nltk.tokenize import word_tokenize \n",
        "from nltk.tokenize import RegexpTokenizer"
      ]
    },
    {
      "cell_type": "markdown",
      "source": [
        "###Data Processing"
      ],
      "metadata": {
        "id": "VllD3H0M09G1"
      }
    },
    {
      "cell_type": "code",
      "source": [
        "train = pd.read_csv('train.txt', names = ['sentence', 'emotion'], header = None, sep = \";\")\n",
        "test = pd.read_csv('test.txt', names = ['sentence', 'emotion'], header = None, sep = \";\")\n",
        "val = pd.read_csv('val.txt', names = ['sentence', 'emotion'], header = None, sep = \";\")\n",
        "data = pd.concat([train, test, val])"
      ],
      "metadata": {
        "id": "JpyslPN_-Wim"
      },
      "execution_count": 5,
      "outputs": []
    },
    {
      "cell_type": "code",
      "source": [
        "data = data.drop_duplicates(keep=\"first\") # Drop duplicated data and reindex the data\n",
        "df = data.reset_index(drop=True)\n"
      ],
      "metadata": {
        "id": "BqvV-5nm-fGc"
      },
      "execution_count": 6,
      "outputs": []
    },
    {
      "cell_type": "code",
      "source": [
        "df['label']=df['emotion'].replace({'joy':0, 'love': 1, \n",
        "                                   'sadness':2, 'anger':3, 'fear':4,'surprise':5})\n",
        "df['length'] = df['sentence'].apply(len) # number of characters"
      ],
      "metadata": {
        "id": "YYqJy49--q92"
      },
      "execution_count": 7,
      "outputs": []
    },
    {
      "cell_type": "code",
      "source": [
        "df.head()"
      ],
      "metadata": {
        "colab": {
          "base_uri": "https://localhost:8080/",
          "height": 206
        },
        "id": "ga1TqhbGHvO-",
        "outputId": "c6eec780-7a6d-48b7-ce70-dd48570584d6"
      },
      "execution_count": 5,
      "outputs": [
        {
          "output_type": "execute_result",
          "data": {
            "text/html": [
              "\n",
              "  <div id=\"df-2061f9a9-11ec-4a3f-a85c-cab1321ada61\">\n",
              "    <div class=\"colab-df-container\">\n",
              "      <div>\n",
              "<style scoped>\n",
              "    .dataframe tbody tr th:only-of-type {\n",
              "        vertical-align: middle;\n",
              "    }\n",
              "\n",
              "    .dataframe tbody tr th {\n",
              "        vertical-align: top;\n",
              "    }\n",
              "\n",
              "    .dataframe thead th {\n",
              "        text-align: right;\n",
              "    }\n",
              "</style>\n",
              "<table border=\"1\" class=\"dataframe\">\n",
              "  <thead>\n",
              "    <tr style=\"text-align: right;\">\n",
              "      <th></th>\n",
              "      <th>sentence</th>\n",
              "      <th>emotion</th>\n",
              "      <th>label</th>\n",
              "      <th>length</th>\n",
              "    </tr>\n",
              "  </thead>\n",
              "  <tbody>\n",
              "    <tr>\n",
              "      <th>0</th>\n",
              "      <td>i didnt feel humiliated</td>\n",
              "      <td>sadness</td>\n",
              "      <td>2</td>\n",
              "      <td>23</td>\n",
              "    </tr>\n",
              "    <tr>\n",
              "      <th>1</th>\n",
              "      <td>i can go from feeling so hopeless to so damned...</td>\n",
              "      <td>sadness</td>\n",
              "      <td>2</td>\n",
              "      <td>108</td>\n",
              "    </tr>\n",
              "    <tr>\n",
              "      <th>2</th>\n",
              "      <td>im grabbing a minute to post i feel greedy wrong</td>\n",
              "      <td>anger</td>\n",
              "      <td>3</td>\n",
              "      <td>48</td>\n",
              "    </tr>\n",
              "    <tr>\n",
              "      <th>3</th>\n",
              "      <td>i am ever feeling nostalgic about the fireplac...</td>\n",
              "      <td>love</td>\n",
              "      <td>1</td>\n",
              "      <td>92</td>\n",
              "    </tr>\n",
              "    <tr>\n",
              "      <th>4</th>\n",
              "      <td>i am feeling grouchy</td>\n",
              "      <td>anger</td>\n",
              "      <td>3</td>\n",
              "      <td>20</td>\n",
              "    </tr>\n",
              "  </tbody>\n",
              "</table>\n",
              "</div>\n",
              "      <button class=\"colab-df-convert\" onclick=\"convertToInteractive('df-2061f9a9-11ec-4a3f-a85c-cab1321ada61')\"\n",
              "              title=\"Convert this dataframe to an interactive table.\"\n",
              "              style=\"display:none;\">\n",
              "        \n",
              "  <svg xmlns=\"http://www.w3.org/2000/svg\" height=\"24px\"viewBox=\"0 0 24 24\"\n",
              "       width=\"24px\">\n",
              "    <path d=\"M0 0h24v24H0V0z\" fill=\"none\"/>\n",
              "    <path d=\"M18.56 5.44l.94 2.06.94-2.06 2.06-.94-2.06-.94-.94-2.06-.94 2.06-2.06.94zm-11 1L8.5 8.5l.94-2.06 2.06-.94-2.06-.94L8.5 2.5l-.94 2.06-2.06.94zm10 10l.94 2.06.94-2.06 2.06-.94-2.06-.94-.94-2.06-.94 2.06-2.06.94z\"/><path d=\"M17.41 7.96l-1.37-1.37c-.4-.4-.92-.59-1.43-.59-.52 0-1.04.2-1.43.59L10.3 9.45l-7.72 7.72c-.78.78-.78 2.05 0 2.83L4 21.41c.39.39.9.59 1.41.59.51 0 1.02-.2 1.41-.59l7.78-7.78 2.81-2.81c.8-.78.8-2.07 0-2.86zM5.41 20L4 18.59l7.72-7.72 1.47 1.35L5.41 20z\"/>\n",
              "  </svg>\n",
              "      </button>\n",
              "      \n",
              "  <style>\n",
              "    .colab-df-container {\n",
              "      display:flex;\n",
              "      flex-wrap:wrap;\n",
              "      gap: 12px;\n",
              "    }\n",
              "\n",
              "    .colab-df-convert {\n",
              "      background-color: #E8F0FE;\n",
              "      border: none;\n",
              "      border-radius: 50%;\n",
              "      cursor: pointer;\n",
              "      display: none;\n",
              "      fill: #1967D2;\n",
              "      height: 32px;\n",
              "      padding: 0 0 0 0;\n",
              "      width: 32px;\n",
              "    }\n",
              "\n",
              "    .colab-df-convert:hover {\n",
              "      background-color: #E2EBFA;\n",
              "      box-shadow: 0px 1px 2px rgba(60, 64, 67, 0.3), 0px 1px 3px 1px rgba(60, 64, 67, 0.15);\n",
              "      fill: #174EA6;\n",
              "    }\n",
              "\n",
              "    [theme=dark] .colab-df-convert {\n",
              "      background-color: #3B4455;\n",
              "      fill: #D2E3FC;\n",
              "    }\n",
              "\n",
              "    [theme=dark] .colab-df-convert:hover {\n",
              "      background-color: #434B5C;\n",
              "      box-shadow: 0px 1px 3px 1px rgba(0, 0, 0, 0.15);\n",
              "      filter: drop-shadow(0px 1px 2px rgba(0, 0, 0, 0.3));\n",
              "      fill: #FFFFFF;\n",
              "    }\n",
              "  </style>\n",
              "\n",
              "      <script>\n",
              "        const buttonEl =\n",
              "          document.querySelector('#df-2061f9a9-11ec-4a3f-a85c-cab1321ada61 button.colab-df-convert');\n",
              "        buttonEl.style.display =\n",
              "          google.colab.kernel.accessAllowed ? 'block' : 'none';\n",
              "\n",
              "        async function convertToInteractive(key) {\n",
              "          const element = document.querySelector('#df-2061f9a9-11ec-4a3f-a85c-cab1321ada61');\n",
              "          const dataTable =\n",
              "            await google.colab.kernel.invokeFunction('convertToInteractive',\n",
              "                                                     [key], {});\n",
              "          if (!dataTable) return;\n",
              "\n",
              "          const docLinkHtml = 'Like what you see? Visit the ' +\n",
              "            '<a target=\"_blank\" href=https://colab.research.google.com/notebooks/data_table.ipynb>data table notebook</a>'\n",
              "            + ' to learn more about interactive tables.';\n",
              "          element.innerHTML = '';\n",
              "          dataTable['output_type'] = 'display_data';\n",
              "          await google.colab.output.renderOutput(dataTable, element);\n",
              "          const docLink = document.createElement('div');\n",
              "          docLink.innerHTML = docLinkHtml;\n",
              "          element.appendChild(docLink);\n",
              "        }\n",
              "      </script>\n",
              "    </div>\n",
              "  </div>\n",
              "  "
            ],
            "text/plain": [
              "                                            sentence  emotion  label  length\n",
              "0                            i didnt feel humiliated  sadness      2      23\n",
              "1  i can go from feeling so hopeless to so damned...  sadness      2     108\n",
              "2   im grabbing a minute to post i feel greedy wrong    anger      3      48\n",
              "3  i am ever feeling nostalgic about the fireplac...     love      1      92\n",
              "4                               i am feeling grouchy    anger      3      20"
            ]
          },
          "metadata": {},
          "execution_count": 5
        }
      ]
    },
    {
      "cell_type": "markdown",
      "source": [
        "###Data Cleaning using NLP"
      ],
      "metadata": {
        "id": "PR2m8nZq1DJC"
      }
    },
    {
      "cell_type": "code",
      "source": [
        "from tqdm import tqdm\n",
        "import re\n",
        "from bs4 import BeautifulSoup\n",
        "from nltk.stem import PorterStemmer\n",
        "from nltk.stem import WordNetLemmatizer\n",
        "\n",
        "def decontracted(phrase):\n",
        "    #contracted phrase into normal words\n",
        "    \n",
        "    phrase = re.sub(r\"wont\", \"will not\", phrase)\n",
        "    phrase = re.sub(r\"wouldnt\", \"would not\", phrase)\n",
        "    phrase = re.sub(r\"shouldnt\", \"should not\", phrase)\n",
        "    phrase = re.sub(r\"couldnt\", \"could not\", phrase)\n",
        "    phrase = re.sub(r\"cudnt\", \"could not\", phrase)\n",
        "    phrase = re.sub(r\"cant\", \"can not\", phrase)\n",
        "    phrase = re.sub(r\"dont\", \"do not\", phrase)\n",
        "    phrase = re.sub(r\"doesnt\", \"does not\", phrase)\n",
        "    phrase = re.sub(r\"didnt\", \"did not\", phrase)\n",
        "    phrase = re.sub(r\"wasnt\", \"was not\", phrase)\n",
        "    phrase = re.sub(r\"werent\", \"were not\", phrase)\n",
        "    phrase = re.sub(r\"havent\", \"have not\", phrase)\n",
        "    phrase = re.sub(r\"hadnt\", \"had not\", phrase)\n",
        "\n",
        "    # general\n",
        "    phrase = re.sub(r\"n\\ t\", \" not\", phrase)\n",
        "    #phrase = re.sub(r\"\\re\", \" are\", phrase)\n",
        "    phrase = re.sub(r\"\\ s \", \" is \", phrase)\n",
        "    phrase = re.sub(r\"\\ d \", \" would \", phrase)\n",
        "    phrase = re.sub(r\"\\ ll \", \" will \", phrase)\n",
        "    phrase = re.sub(r\"\\dunno\", \"do not \", phrase)\n",
        "    phrase = re.sub(r\"ive \", \"i have \", phrase)\n",
        "    phrase = re.sub(r\"im \", \"i am \", phrase)\n",
        "    phrase = re.sub(r\"i m \", \"i am \", phrase)\n",
        "    phrase = re.sub(r\" w \", \" with \", phrase)\n",
        "    \n",
        "    return phrase\n",
        "\n",
        "def clean_text(df):\n",
        "    cleaned_review = []\n",
        "\n",
        "    for review_text in tqdm(df['sentence']):\n",
        "        \n",
        "        review_text = decontracted(review_text)\n",
        "        review_text = BeautifulSoup(review_text, 'lxml').get_text().strip()\n",
        "\n",
        "        review_text = re.sub(\"[^a-zA-Z]\",\" \", review_text)\n",
        "        review_text = re.sub(r'https?://\\S+|www\\.\\S+', '', review_text)\n",
        "        \n",
        "        #Removing punctutation, string.punctuation in python consists of !\"#$%&\\'()*+,-./:;<=>?@[\\\\]^_{|}~`\n",
        "        review_text = review_text.translate(str.maketrans('', '', string.punctuation))\n",
        "        review_text = re.sub(r\"(^[a-zA-Z0-9_.+-]+@[a-zA-Z0-9-]+\\.[a-zA-Z0-9-.]+$)\", '', review_text)\n",
        "    \n",
        "        cleaned_review.append(review_text)\n",
        "\n",
        "    return cleaned_review  \n",
        "\n",
        "df['cleaned_sentence'] = clean_text(df)\n",
        "df.head()  \n"
      ],
      "metadata": {
        "id": "8GCrDgSA_Aav",
        "colab": {
          "base_uri": "https://localhost:8080/",
          "height": 223
        },
        "outputId": "50db004d-8898-4e62-8c0f-e70b2375b28a"
      },
      "execution_count": 8,
      "outputs": [
        {
          "output_type": "stream",
          "name": "stderr",
          "text": [
            "100%|██████████| 19999/19999 [00:06<00:00, 3332.22it/s]\n"
          ]
        },
        {
          "output_type": "execute_result",
          "data": {
            "text/html": [
              "\n",
              "  <div id=\"df-a30e4d5c-5399-4e90-b587-dc0167f1da1a\">\n",
              "    <div class=\"colab-df-container\">\n",
              "      <div>\n",
              "<style scoped>\n",
              "    .dataframe tbody tr th:only-of-type {\n",
              "        vertical-align: middle;\n",
              "    }\n",
              "\n",
              "    .dataframe tbody tr th {\n",
              "        vertical-align: top;\n",
              "    }\n",
              "\n",
              "    .dataframe thead th {\n",
              "        text-align: right;\n",
              "    }\n",
              "</style>\n",
              "<table border=\"1\" class=\"dataframe\">\n",
              "  <thead>\n",
              "    <tr style=\"text-align: right;\">\n",
              "      <th></th>\n",
              "      <th>sentence</th>\n",
              "      <th>emotion</th>\n",
              "      <th>label</th>\n",
              "      <th>length</th>\n",
              "      <th>cleaned_sentence</th>\n",
              "    </tr>\n",
              "  </thead>\n",
              "  <tbody>\n",
              "    <tr>\n",
              "      <th>0</th>\n",
              "      <td>i didnt feel humiliated</td>\n",
              "      <td>sadness</td>\n",
              "      <td>2</td>\n",
              "      <td>23</td>\n",
              "      <td>i did not feel humiliated</td>\n",
              "    </tr>\n",
              "    <tr>\n",
              "      <th>1</th>\n",
              "      <td>i can go from feeling so hopeless to so damned...</td>\n",
              "      <td>sadness</td>\n",
              "      <td>2</td>\n",
              "      <td>108</td>\n",
              "      <td>i can go from feeling so hopeless to so damned...</td>\n",
              "    </tr>\n",
              "    <tr>\n",
              "      <th>2</th>\n",
              "      <td>im grabbing a minute to post i feel greedy wrong</td>\n",
              "      <td>anger</td>\n",
              "      <td>3</td>\n",
              "      <td>48</td>\n",
              "      <td>i am grabbing a minute to post i feel greedy w...</td>\n",
              "    </tr>\n",
              "    <tr>\n",
              "      <th>3</th>\n",
              "      <td>i am ever feeling nostalgic about the fireplac...</td>\n",
              "      <td>love</td>\n",
              "      <td>1</td>\n",
              "      <td>92</td>\n",
              "      <td>i am ever feeling nostalgic about the fireplac...</td>\n",
              "    </tr>\n",
              "    <tr>\n",
              "      <th>4</th>\n",
              "      <td>i am feeling grouchy</td>\n",
              "      <td>anger</td>\n",
              "      <td>3</td>\n",
              "      <td>20</td>\n",
              "      <td>i am feeling grouchy</td>\n",
              "    </tr>\n",
              "  </tbody>\n",
              "</table>\n",
              "</div>\n",
              "      <button class=\"colab-df-convert\" onclick=\"convertToInteractive('df-a30e4d5c-5399-4e90-b587-dc0167f1da1a')\"\n",
              "              title=\"Convert this dataframe to an interactive table.\"\n",
              "              style=\"display:none;\">\n",
              "        \n",
              "  <svg xmlns=\"http://www.w3.org/2000/svg\" height=\"24px\"viewBox=\"0 0 24 24\"\n",
              "       width=\"24px\">\n",
              "    <path d=\"M0 0h24v24H0V0z\" fill=\"none\"/>\n",
              "    <path d=\"M18.56 5.44l.94 2.06.94-2.06 2.06-.94-2.06-.94-.94-2.06-.94 2.06-2.06.94zm-11 1L8.5 8.5l.94-2.06 2.06-.94-2.06-.94L8.5 2.5l-.94 2.06-2.06.94zm10 10l.94 2.06.94-2.06 2.06-.94-2.06-.94-.94-2.06-.94 2.06-2.06.94z\"/><path d=\"M17.41 7.96l-1.37-1.37c-.4-.4-.92-.59-1.43-.59-.52 0-1.04.2-1.43.59L10.3 9.45l-7.72 7.72c-.78.78-.78 2.05 0 2.83L4 21.41c.39.39.9.59 1.41.59.51 0 1.02-.2 1.41-.59l7.78-7.78 2.81-2.81c.8-.78.8-2.07 0-2.86zM5.41 20L4 18.59l7.72-7.72 1.47 1.35L5.41 20z\"/>\n",
              "  </svg>\n",
              "      </button>\n",
              "      \n",
              "  <style>\n",
              "    .colab-df-container {\n",
              "      display:flex;\n",
              "      flex-wrap:wrap;\n",
              "      gap: 12px;\n",
              "    }\n",
              "\n",
              "    .colab-df-convert {\n",
              "      background-color: #E8F0FE;\n",
              "      border: none;\n",
              "      border-radius: 50%;\n",
              "      cursor: pointer;\n",
              "      display: none;\n",
              "      fill: #1967D2;\n",
              "      height: 32px;\n",
              "      padding: 0 0 0 0;\n",
              "      width: 32px;\n",
              "    }\n",
              "\n",
              "    .colab-df-convert:hover {\n",
              "      background-color: #E2EBFA;\n",
              "      box-shadow: 0px 1px 2px rgba(60, 64, 67, 0.3), 0px 1px 3px 1px rgba(60, 64, 67, 0.15);\n",
              "      fill: #174EA6;\n",
              "    }\n",
              "\n",
              "    [theme=dark] .colab-df-convert {\n",
              "      background-color: #3B4455;\n",
              "      fill: #D2E3FC;\n",
              "    }\n",
              "\n",
              "    [theme=dark] .colab-df-convert:hover {\n",
              "      background-color: #434B5C;\n",
              "      box-shadow: 0px 1px 3px 1px rgba(0, 0, 0, 0.15);\n",
              "      filter: drop-shadow(0px 1px 2px rgba(0, 0, 0, 0.3));\n",
              "      fill: #FFFFFF;\n",
              "    }\n",
              "  </style>\n",
              "\n",
              "      <script>\n",
              "        const buttonEl =\n",
              "          document.querySelector('#df-a30e4d5c-5399-4e90-b587-dc0167f1da1a button.colab-df-convert');\n",
              "        buttonEl.style.display =\n",
              "          google.colab.kernel.accessAllowed ? 'block' : 'none';\n",
              "\n",
              "        async function convertToInteractive(key) {\n",
              "          const element = document.querySelector('#df-a30e4d5c-5399-4e90-b587-dc0167f1da1a');\n",
              "          const dataTable =\n",
              "            await google.colab.kernel.invokeFunction('convertToInteractive',\n",
              "                                                     [key], {});\n",
              "          if (!dataTable) return;\n",
              "\n",
              "          const docLinkHtml = 'Like what you see? Visit the ' +\n",
              "            '<a target=\"_blank\" href=https://colab.research.google.com/notebooks/data_table.ipynb>data table notebook</a>'\n",
              "            + ' to learn more about interactive tables.';\n",
              "          element.innerHTML = '';\n",
              "          dataTable['output_type'] = 'display_data';\n",
              "          await google.colab.output.renderOutput(dataTable, element);\n",
              "          const docLink = document.createElement('div');\n",
              "          docLink.innerHTML = docLinkHtml;\n",
              "          element.appendChild(docLink);\n",
              "        }\n",
              "      </script>\n",
              "    </div>\n",
              "  </div>\n",
              "  "
            ],
            "text/plain": [
              "                                            sentence  ...                                   cleaned_sentence\n",
              "0                            i didnt feel humiliated  ...                          i did not feel humiliated\n",
              "1  i can go from feeling so hopeless to so damned...  ...  i can go from feeling so hopeless to so damned...\n",
              "2   im grabbing a minute to post i feel greedy wrong  ...  i am grabbing a minute to post i feel greedy w...\n",
              "3  i am ever feeling nostalgic about the fireplac...  ...  i am ever feeling nostalgic about the fireplac...\n",
              "4                               i am feeling grouchy  ...                               i am feeling grouchy\n",
              "\n",
              "[5 rows x 5 columns]"
            ]
          },
          "metadata": {},
          "execution_count": 8
        }
      ]
    },
    {
      "cell_type": "code",
      "source": [
        "nltk.download('punkt')\n",
        "def remove_stopwords(phrase):\n",
        "    remove_sw = []\n",
        "    tokenizer = RegexpTokenizer(r'[a-zA-Z0-9]+')\n",
        "    stop_words = stopwords.words('english')\n",
        "    \n",
        "    for review_text in tqdm(phrase):\n",
        "        tokens = word_tokenize(review_text)\n",
        "        tokens = [word for word in tokens if not word in stop_words]\n",
        "        remove_sw.append(tokens)\n",
        "    return remove_sw\n",
        "df['cleaned_sentence'] = remove_stopwords(df['cleaned_sentence'])\n",
        "df.head()"
      ],
      "metadata": {
        "id": "cyDTbE1j_UUu",
        "colab": {
          "base_uri": "https://localhost:8080/",
          "height": 258
        },
        "outputId": "75933702-7ef8-4bcb-a821-d0f02c7e453b"
      },
      "execution_count": 9,
      "outputs": [
        {
          "output_type": "stream",
          "name": "stdout",
          "text": [
            "[nltk_data] Downloading package punkt to /root/nltk_data...\n",
            "[nltk_data]   Unzipping tokenizers/punkt.zip.\n"
          ]
        },
        {
          "output_type": "stream",
          "name": "stderr",
          "text": [
            "100%|██████████| 19999/19999 [00:03<00:00, 5067.09it/s]\n"
          ]
        },
        {
          "output_type": "execute_result",
          "data": {
            "text/html": [
              "\n",
              "  <div id=\"df-2c89660d-13b8-426b-8c32-f9c6ce0cd6ea\">\n",
              "    <div class=\"colab-df-container\">\n",
              "      <div>\n",
              "<style scoped>\n",
              "    .dataframe tbody tr th:only-of-type {\n",
              "        vertical-align: middle;\n",
              "    }\n",
              "\n",
              "    .dataframe tbody tr th {\n",
              "        vertical-align: top;\n",
              "    }\n",
              "\n",
              "    .dataframe thead th {\n",
              "        text-align: right;\n",
              "    }\n",
              "</style>\n",
              "<table border=\"1\" class=\"dataframe\">\n",
              "  <thead>\n",
              "    <tr style=\"text-align: right;\">\n",
              "      <th></th>\n",
              "      <th>sentence</th>\n",
              "      <th>emotion</th>\n",
              "      <th>label</th>\n",
              "      <th>length</th>\n",
              "      <th>cleaned_sentence</th>\n",
              "    </tr>\n",
              "  </thead>\n",
              "  <tbody>\n",
              "    <tr>\n",
              "      <th>0</th>\n",
              "      <td>i didnt feel humiliated</td>\n",
              "      <td>sadness</td>\n",
              "      <td>2</td>\n",
              "      <td>23</td>\n",
              "      <td>[feel, humiliated]</td>\n",
              "    </tr>\n",
              "    <tr>\n",
              "      <th>1</th>\n",
              "      <td>i can go from feeling so hopeless to so damned...</td>\n",
              "      <td>sadness</td>\n",
              "      <td>2</td>\n",
              "      <td>108</td>\n",
              "      <td>[go, feeling, hopeless, damned, hopeful, aroun...</td>\n",
              "    </tr>\n",
              "    <tr>\n",
              "      <th>2</th>\n",
              "      <td>im grabbing a minute to post i feel greedy wrong</td>\n",
              "      <td>anger</td>\n",
              "      <td>3</td>\n",
              "      <td>48</td>\n",
              "      <td>[grabbing, minute, post, feel, greedy, wrong]</td>\n",
              "    </tr>\n",
              "    <tr>\n",
              "      <th>3</th>\n",
              "      <td>i am ever feeling nostalgic about the fireplac...</td>\n",
              "      <td>love</td>\n",
              "      <td>1</td>\n",
              "      <td>92</td>\n",
              "      <td>[ever, feeling, nostalgic, fireplace, know, st...</td>\n",
              "    </tr>\n",
              "    <tr>\n",
              "      <th>4</th>\n",
              "      <td>i am feeling grouchy</td>\n",
              "      <td>anger</td>\n",
              "      <td>3</td>\n",
              "      <td>20</td>\n",
              "      <td>[feeling, grouchy]</td>\n",
              "    </tr>\n",
              "  </tbody>\n",
              "</table>\n",
              "</div>\n",
              "      <button class=\"colab-df-convert\" onclick=\"convertToInteractive('df-2c89660d-13b8-426b-8c32-f9c6ce0cd6ea')\"\n",
              "              title=\"Convert this dataframe to an interactive table.\"\n",
              "              style=\"display:none;\">\n",
              "        \n",
              "  <svg xmlns=\"http://www.w3.org/2000/svg\" height=\"24px\"viewBox=\"0 0 24 24\"\n",
              "       width=\"24px\">\n",
              "    <path d=\"M0 0h24v24H0V0z\" fill=\"none\"/>\n",
              "    <path d=\"M18.56 5.44l.94 2.06.94-2.06 2.06-.94-2.06-.94-.94-2.06-.94 2.06-2.06.94zm-11 1L8.5 8.5l.94-2.06 2.06-.94-2.06-.94L8.5 2.5l-.94 2.06-2.06.94zm10 10l.94 2.06.94-2.06 2.06-.94-2.06-.94-.94-2.06-.94 2.06-2.06.94z\"/><path d=\"M17.41 7.96l-1.37-1.37c-.4-.4-.92-.59-1.43-.59-.52 0-1.04.2-1.43.59L10.3 9.45l-7.72 7.72c-.78.78-.78 2.05 0 2.83L4 21.41c.39.39.9.59 1.41.59.51 0 1.02-.2 1.41-.59l7.78-7.78 2.81-2.81c.8-.78.8-2.07 0-2.86zM5.41 20L4 18.59l7.72-7.72 1.47 1.35L5.41 20z\"/>\n",
              "  </svg>\n",
              "      </button>\n",
              "      \n",
              "  <style>\n",
              "    .colab-df-container {\n",
              "      display:flex;\n",
              "      flex-wrap:wrap;\n",
              "      gap: 12px;\n",
              "    }\n",
              "\n",
              "    .colab-df-convert {\n",
              "      background-color: #E8F0FE;\n",
              "      border: none;\n",
              "      border-radius: 50%;\n",
              "      cursor: pointer;\n",
              "      display: none;\n",
              "      fill: #1967D2;\n",
              "      height: 32px;\n",
              "      padding: 0 0 0 0;\n",
              "      width: 32px;\n",
              "    }\n",
              "\n",
              "    .colab-df-convert:hover {\n",
              "      background-color: #E2EBFA;\n",
              "      box-shadow: 0px 1px 2px rgba(60, 64, 67, 0.3), 0px 1px 3px 1px rgba(60, 64, 67, 0.15);\n",
              "      fill: #174EA6;\n",
              "    }\n",
              "\n",
              "    [theme=dark] .colab-df-convert {\n",
              "      background-color: #3B4455;\n",
              "      fill: #D2E3FC;\n",
              "    }\n",
              "\n",
              "    [theme=dark] .colab-df-convert:hover {\n",
              "      background-color: #434B5C;\n",
              "      box-shadow: 0px 1px 3px 1px rgba(0, 0, 0, 0.15);\n",
              "      filter: drop-shadow(0px 1px 2px rgba(0, 0, 0, 0.3));\n",
              "      fill: #FFFFFF;\n",
              "    }\n",
              "  </style>\n",
              "\n",
              "      <script>\n",
              "        const buttonEl =\n",
              "          document.querySelector('#df-2c89660d-13b8-426b-8c32-f9c6ce0cd6ea button.colab-df-convert');\n",
              "        buttonEl.style.display =\n",
              "          google.colab.kernel.accessAllowed ? 'block' : 'none';\n",
              "\n",
              "        async function convertToInteractive(key) {\n",
              "          const element = document.querySelector('#df-2c89660d-13b8-426b-8c32-f9c6ce0cd6ea');\n",
              "          const dataTable =\n",
              "            await google.colab.kernel.invokeFunction('convertToInteractive',\n",
              "                                                     [key], {});\n",
              "          if (!dataTable) return;\n",
              "\n",
              "          const docLinkHtml = 'Like what you see? Visit the ' +\n",
              "            '<a target=\"_blank\" href=https://colab.research.google.com/notebooks/data_table.ipynb>data table notebook</a>'\n",
              "            + ' to learn more about interactive tables.';\n",
              "          element.innerHTML = '';\n",
              "          dataTable['output_type'] = 'display_data';\n",
              "          await google.colab.output.renderOutput(dataTable, element);\n",
              "          const docLink = document.createElement('div');\n",
              "          docLink.innerHTML = docLinkHtml;\n",
              "          element.appendChild(docLink);\n",
              "        }\n",
              "      </script>\n",
              "    </div>\n",
              "  </div>\n",
              "  "
            ],
            "text/plain": [
              "                                            sentence  ...                                   cleaned_sentence\n",
              "0                            i didnt feel humiliated  ...                                 [feel, humiliated]\n",
              "1  i can go from feeling so hopeless to so damned...  ...  [go, feeling, hopeless, damned, hopeful, aroun...\n",
              "2   im grabbing a minute to post i feel greedy wrong  ...      [grabbing, minute, post, feel, greedy, wrong]\n",
              "3  i am ever feeling nostalgic about the fireplac...  ...  [ever, feeling, nostalgic, fireplace, know, st...\n",
              "4                               i am feeling grouchy  ...                                 [feeling, grouchy]\n",
              "\n",
              "[5 rows x 5 columns]"
            ]
          },
          "metadata": {},
          "execution_count": 9
        }
      ]
    },
    {
      "cell_type": "code",
      "source": [
        "from nltk.stem import PorterStemmer\n",
        "\n",
        "def stemming(phrase):\n",
        "    stemmer = PorterStemmer()\n",
        "    stem_output=[]\n",
        "    stemmed=[]\n",
        "    for review_text in tqdm(phrase):\n",
        "        stemmed = [stemmer.stem(word) for word in review_text]\n",
        "        stem_output.append(stemmed)\n",
        "    return stem_output\n",
        "\n",
        "df['cleaned_sentence'] = stemming(df['cleaned_sentence'])\n",
        "df['cleaned_sentence'].head()"
      ],
      "metadata": {
        "id": "wUYL-wBy_hkn",
        "colab": {
          "base_uri": "https://localhost:8080/"
        },
        "outputId": "98dd7798-bcb8-4735-f93c-ef0a4ff8a550"
      },
      "execution_count": 10,
      "outputs": [
        {
          "output_type": "stream",
          "name": "stderr",
          "text": [
            "100%|██████████| 19999/19999 [00:05<00:00, 3834.34it/s]\n"
          ]
        },
        {
          "output_type": "execute_result",
          "data": {
            "text/plain": [
              "0                                       [feel, humili]\n",
              "1    [go, feel, hopeless, damn, hope, around, someo...\n",
              "2             [grab, minut, post, feel, greedi, wrong]\n",
              "3    [ever, feel, nostalg, fireplac, know, still, n...\n",
              "4                                      [feel, grouchi]\n",
              "Name: cleaned_sentence, dtype: object"
            ]
          },
          "metadata": {},
          "execution_count": 10
        }
      ]
    },
    {
      "cell_type": "code",
      "source": [
        "def to_sentence(phrase):\n",
        "    sentence=[]\n",
        "    for words in tqdm(phrase):\n",
        "        sentence.append((\" \").join(words))\n",
        "    return sentence\n",
        "df['cleaned_sentence']=to_sentence(df['cleaned_sentence'])\n",
        "df['cleaned_sentence'].head()"
      ],
      "metadata": {
        "id": "6E4ijip9_nq-",
        "colab": {
          "base_uri": "https://localhost:8080/"
        },
        "outputId": "d08ef4de-391e-4871-9df5-1b6f1279b211"
      },
      "execution_count": 11,
      "outputs": [
        {
          "output_type": "stream",
          "name": "stderr",
          "text": [
            "100%|██████████| 19999/19999 [00:00<00:00, 978385.56it/s]\n"
          ]
        },
        {
          "output_type": "execute_result",
          "data": {
            "text/plain": [
              "0                                          feel humili\n",
              "1    go feel hopeless damn hope around someon care ...\n",
              "2                    grab minut post feel greedi wrong\n",
              "3    ever feel nostalg fireplac know still noth pro...\n",
              "4                                         feel grouchi\n",
              "Name: cleaned_sentence, dtype: object"
            ]
          },
          "metadata": {},
          "execution_count": 11
        }
      ]
    },
    {
      "cell_type": "code",
      "source": [
        "MAX_NB_WORDS = 15000\n",
        "MAX_SEQUENCE_LENGTH = 35\n",
        "EMBEDDING_DIM = 100"
      ],
      "metadata": {
        "id": "TR6lRaji2tCK"
      },
      "execution_count": 12,
      "outputs": []
    },
    {
      "cell_type": "code",
      "source": [
        "# load pre-trained model\n",
        "import gensim.downloader as api\n",
        "model_wiki = api.load('fasttext-wiki-news-subwords-300')"
      ],
      "metadata": {
        "colab": {
          "base_uri": "https://localhost:8080/"
        },
        "id": "vFvfS-bBh5ei",
        "outputId": "087342d9-8d54-4b46-c44a-bb879594e624"
      },
      "execution_count": 22,
      "outputs": [
        {
          "output_type": "stream",
          "name": "stdout",
          "text": [
            "[==================================================] 100.0% 958.5/958.4MB downloaded\n"
          ]
        }
      ]
    },
    {
      "cell_type": "code",
      "source": [
        "from gensim.models import Word2Vec\n",
        "# train word2vec model on the corpus\n",
        "model_w2v = Word2Vec(df['cleaned_sentence'].values,   # data for model to train on\n",
        "                 size = 100,                            # embedding vector size\n",
        "                 min_count = 2).wv"
      ],
      "metadata": {
        "id": "iF1DxmQlh8Pi"
      },
      "execution_count": 20,
      "outputs": []
    },
    {
      "cell_type": "code",
      "source": [
        "def create_weight_matrix(model, second_model=False):\n",
        "  '''\n",
        "  Accepts word embedding model\n",
        "  and the second model, if provided\n",
        "  Returns weight matrix of size m*n, where\n",
        "  m - size of the dictionary\n",
        "  n - size of the word embedding vector\n",
        "\n",
        "  '''\n",
        "  vector_size = model.get_vector('like').shape[0]\n",
        "  w_matrix = np.zeros((15000, vector_size))\n",
        "  skipped_words = []\n",
        "\n",
        "  for word, index in tokenizer.word_index.items():\n",
        "    if index < 15000:\n",
        "      if word in model.vocab.keys(): \n",
        "        w_matrix[index] = model.get_vector(word)\n",
        "      else:\n",
        "        if second_model:\n",
        "          if word in second_model.vocab.keys():\n",
        "            w_matrix[index] = second_model.get_vector(word)\n",
        "          else:\n",
        "            skipped_words.append(word)\n",
        "        else:\n",
        "          skipped_words.append(word)\n",
        " \n",
        "  print(f'{len(skipped_words)} words were skipped. Some of them:')\n",
        "  print(skipped_words[:50])\n",
        "  return w_matrix\n",
        "weight_matrix = create_weight_matrix(model_wiki, model_w2v)"
      ],
      "metadata": {
        "colab": {
          "base_uri": "https://localhost:8080/"
        },
        "id": "BYwr5dbhheUb",
        "outputId": "f0863a35-628f-4f96-b301-5fd0fc08f5ee"
      },
      "execution_count": 23,
      "outputs": [
        {
          "output_type": "stream",
          "name": "stdout",
          "text": [
            "4449 words were skipped. Some of them:\n",
            "['realli', 'someth', 'pretti', 'everi', 'anyth', 'nothat', 'everyth', 'nothi', 'sometim', 'amaz', 'rememb', 'famili', 'alreadi', 'excit', 'irrit', 'angri', 'bodi', 'especi', 'realiz', 'frustrat', 'insid', 'confid', 'anxiou', 'pressur', 'sorri', 'slightli', 'terribl', 'peac', 'nothough', 'nervou', 'guilti', 'inspir', 'situat', 'suppos', 'particularli', 'beauti', 'horribl', 'worri', 'tortur', 'truli', 'belov', 'funni', 'terrifi', 'convinc', 'anymor', 'unhappi', 'lucki', 'positi', 'togeth', 'shitti']\n"
          ]
        }
      ]
    },
    {
      "cell_type": "code",
      "source": [
        "from keras.preprocessing.text import Tokenizer\n",
        "tokenizer = Tokenizer(num_words=15000, lower=True)\n",
        "tokenizer.fit_on_texts(df['cleaned_sentence'].values)\n",
        "word_index = tokenizer.word_index\n",
        "print('Found %s unique tokens.' % len(word_index))\n",
        "#print(word_index)"
      ],
      "metadata": {
        "colab": {
          "base_uri": "https://localhost:8080/"
        },
        "id": "ShEw6uSf8LLB",
        "outputId": "c9222d8e-060b-4392-ed58-3d02a324f58b"
      },
      "execution_count": 13,
      "outputs": [
        {
          "output_type": "stream",
          "name": "stdout",
          "text": [
            "Found 11976 unique tokens.\n"
          ]
        }
      ]
    },
    {
      "cell_type": "code",
      "source": [
        "from tensorflow.keras.preprocessing.sequence import pad_sequences\n",
        "\n",
        "X = tokenizer.texts_to_sequences(df['cleaned_sentence'].values)\n",
        "X = pad_sequences(X, maxlen=35)\n",
        "print('Shape of data tensor:', X.shape)\n",
        "print(X)"
      ],
      "metadata": {
        "colab": {
          "base_uri": "https://localhost:8080/"
        },
        "id": "AQjf_1eD8xdh",
        "outputId": "3f14f828-d0c5-41bb-987f-d7d5666390f7"
      },
      "execution_count": 14,
      "outputs": [
        {
          "output_type": "stream",
          "name": "stdout",
          "text": [
            "Shape of data tensor: (19999, 35)\n",
            "[[   0    0    0 ...    0    1  515]\n",
            " [   0    0    0 ...   56   90 1213]\n",
            " [   0    0    0 ...    1  428  190]\n",
            " ...\n",
            " [   0    0    0 ... 2508  238   17]\n",
            " [   0    0    0 ...  261  625 1572]\n",
            " [   0    0    0 ...  156    3   18]]\n"
          ]
        }
      ]
    },
    {
      "cell_type": "code",
      "source": [
        "y = pd.get_dummies(df['label']).values\n",
        "print('Shape of label tensor:', y.shape)\n",
        "print(y)"
      ],
      "metadata": {
        "colab": {
          "base_uri": "https://localhost:8080/"
        },
        "id": "Qez6G39v2QhJ",
        "outputId": "5c7fe49f-c97e-4b69-ca93-1b8da61c4084"
      },
      "execution_count": 15,
      "outputs": [
        {
          "output_type": "stream",
          "name": "stdout",
          "text": [
            "Shape of label tensor: (19999, 6)\n",
            "[[0 0 1 0 0 0]\n",
            " [0 0 1 0 0 0]\n",
            " [0 0 0 1 0 0]\n",
            " ...\n",
            " [1 0 0 0 0 0]\n",
            " [1 0 0 0 0 0]\n",
            " [1 0 0 0 0 0]]\n"
          ]
        }
      ]
    },
    {
      "cell_type": "code",
      "source": [
        "X_int = X.astype('int')\n",
        "print(X_int)"
      ],
      "metadata": {
        "id": "3U75aX_Vpqb3",
        "colab": {
          "base_uri": "https://localhost:8080/"
        },
        "outputId": "d9d05922-fdde-4c7b-f6f3-f7ee06784bf7"
      },
      "execution_count": 16,
      "outputs": [
        {
          "output_type": "stream",
          "name": "stdout",
          "text": [
            "[[   0    0    0 ...    0    1  515]\n",
            " [   0    0    0 ...   56   90 1213]\n",
            " [   0    0    0 ...    1  428  190]\n",
            " ...\n",
            " [   0    0    0 ... 2508  238   17]\n",
            " [   0    0    0 ...  261  625 1572]\n",
            " [   0    0    0 ...  156    3   18]]\n"
          ]
        }
      ]
    },
    {
      "cell_type": "code",
      "source": [
        "y_int = y.astype('int')\n",
        "y_int"
      ],
      "metadata": {
        "colab": {
          "base_uri": "https://localhost:8080/"
        },
        "id": "GrD198sTbjg8",
        "outputId": "34b77229-ded7-4392-8139-7435dfd031ed"
      },
      "execution_count": 17,
      "outputs": [
        {
          "output_type": "execute_result",
          "data": {
            "text/plain": [
              "array([[0, 0, 1, 0, 0, 0],\n",
              "       [0, 0, 1, 0, 0, 0],\n",
              "       [0, 0, 0, 1, 0, 0],\n",
              "       ...,\n",
              "       [1, 0, 0, 0, 0, 0],\n",
              "       [1, 0, 0, 0, 0, 0],\n",
              "       [1, 0, 0, 0, 0, 0]])"
            ]
          },
          "metadata": {},
          "execution_count": 17
        }
      ]
    },
    {
      "cell_type": "code",
      "source": [
        "X_train, X_test, y_train, y_test = train_test_split(X_int,y_int, test_size = 0.3, random_state = 42)\n",
        "print(X_train.shape,y_train.shape)\n",
        "print(X_test.shape,y_test.shape)"
      ],
      "metadata": {
        "colab": {
          "base_uri": "https://localhost:8080/"
        },
        "id": "YWPHAEcY94og",
        "outputId": "8d640fbf-9ba7-459d-b93b-4d3be7cab0e1"
      },
      "execution_count": 18,
      "outputs": [
        {
          "output_type": "stream",
          "name": "stdout",
          "text": [
            "(13999, 35) (13999, 6)\n",
            "(6000, 35) (6000, 6)\n"
          ]
        }
      ]
    },
    {
      "cell_type": "markdown",
      "source": [
        "###Model Training"
      ],
      "metadata": {
        "id": "bfqGKtgN_3Wp"
      }
    },
    {
      "cell_type": "markdown",
      "source": [
        "###**BiLSTM** **Model**"
      ],
      "metadata": {
        "id": "rhvcpAcpx7zz"
      }
    },
    {
      "cell_type": "code",
      "source": [
        "import tensorflow as tf\n",
        "import keras\n",
        "from keras.models import Sequential, Model\n",
        "from keras.layers import Dense, Flatten, Dropout, GlobalAveragePooling1D, SpatialDropout1D, MaxPooling2D, Activation, LSTM, BatchNormalization, Bidirectional, CuDNNLSTM, Input, Conv1D\n",
        "from tensorflow.keras.optimizers import SGD\n",
        "from keras.models import load_model\n",
        "from keras.layers.embeddings import Embedding\n",
        "import tensorflow.keras\n",
        "import tensorflow as tf"
      ],
      "metadata": {
        "id": "dOG0_ozyy7wt"
      },
      "execution_count": 24,
      "outputs": []
    },
    {
      "cell_type": "code",
      "source": [
        "from tensorflow.keras.callbacks import EarlyStopping"
      ],
      "metadata": {
        "id": "46K_dCK83pzd"
      },
      "execution_count": 25,
      "outputs": []
    },
    {
      "cell_type": "code",
      "source": [
        "model = Sequential()\n",
        "model.add(Embedding(input_dim = MAX_NB_WORDS, output_dim = weight_matrix.shape[1], input_length=X_int.shape[1], weights=[weight_matrix], trainable = False))\n",
        "model.add(SpatialDropout1D(0.2))\n",
        "model.add(Bidirectional(LSTM(128, dropout=0.2, return_sequences=True)))\n",
        "model.add(Bidirectional(LSTM(256, dropout=0.2, return_sequences=True)))\n",
        "model.add(Bidirectional(LSTM(128, dropout=0.2)))\n",
        "#model.add(BatchNormalization())\n",
        "#model.add(Dense(32, activation='relu'))\n",
        "#model.add(Dropout(0.2))\n",
        "model.add(Dense(6, activation='softmax'))\n",
        "model.compile(loss='categorical_crossentropy', optimizer='adam', metrics=['categorical_accuracy'])\n",
        "\n",
        "epochs = 20\n",
        "batch_size = 8\n",
        "\n"
      ],
      "metadata": {
        "id": "rc_gA00hyDDS"
      },
      "execution_count": 26,
      "outputs": []
    },
    {
      "cell_type": "code",
      "source": [
        "history = model.fit(X_train, y_train, epochs=epochs, validation_split = 0.2, batch_size=batch_size,callbacks=[EarlyStopping(monitor='val_loss', mode = 'min',patience=3)])"
      ],
      "metadata": {
        "colab": {
          "base_uri": "https://localhost:8080/"
        },
        "id": "fh4D8JOO64IQ",
        "outputId": "f81e94de-f4a2-470c-d4d5-622d7b55c3e5"
      },
      "execution_count": 27,
      "outputs": [
        {
          "output_type": "stream",
          "name": "stdout",
          "text": [
            "Epoch 1/20\n",
            "1400/1400 [==============================] - 790s 554ms/step - loss: 1.4565 - categorical_accuracy: 0.4357 - val_loss: 1.2887 - val_categorical_accuracy: 0.5161\n",
            "Epoch 2/20\n",
            "1400/1400 [==============================] - 766s 547ms/step - loss: 1.1747 - categorical_accuracy: 0.5591 - val_loss: 1.0294 - val_categorical_accuracy: 0.6275\n",
            "Epoch 3/20\n",
            "1400/1400 [==============================] - 753s 538ms/step - loss: 0.9916 - categorical_accuracy: 0.6309 - val_loss: 0.8955 - val_categorical_accuracy: 0.6721\n",
            "Epoch 4/20\n",
            "1400/1400 [==============================] - 714s 510ms/step - loss: 0.9076 - categorical_accuracy: 0.6586 - val_loss: 0.8623 - val_categorical_accuracy: 0.6714\n",
            "Epoch 5/20\n",
            "1400/1400 [==============================] - 715s 510ms/step - loss: 0.8676 - categorical_accuracy: 0.6678 - val_loss: 0.8464 - val_categorical_accuracy: 0.6743\n",
            "Epoch 6/20\n",
            "1400/1400 [==============================] - 718s 513ms/step - loss: 0.8262 - categorical_accuracy: 0.6854 - val_loss: 0.8243 - val_categorical_accuracy: 0.6836\n",
            "Epoch 7/20\n",
            "1400/1400 [==============================] - 723s 517ms/step - loss: 0.7973 - categorical_accuracy: 0.6945 - val_loss: 0.8125 - val_categorical_accuracy: 0.6993\n",
            "Epoch 8/20\n",
            "1400/1400 [==============================] - 723s 517ms/step - loss: 0.7696 - categorical_accuracy: 0.7012 - val_loss: 0.8058 - val_categorical_accuracy: 0.6900\n",
            "Epoch 9/20\n",
            "1400/1400 [==============================] - 720s 514ms/step - loss: 0.7518 - categorical_accuracy: 0.7084 - val_loss: 0.7974 - val_categorical_accuracy: 0.6911\n",
            "Epoch 10/20\n",
            "1400/1400 [==============================] - 723s 517ms/step - loss: 0.7279 - categorical_accuracy: 0.7155 - val_loss: 0.8114 - val_categorical_accuracy: 0.6821\n",
            "Epoch 11/20\n",
            "1400/1400 [==============================] - 729s 521ms/step - loss: 0.7073 - categorical_accuracy: 0.7193 - val_loss: 0.7951 - val_categorical_accuracy: 0.6932\n",
            "Epoch 12/20\n",
            "1400/1400 [==============================] - 727s 519ms/step - loss: 0.6801 - categorical_accuracy: 0.7328 - val_loss: 0.8066 - val_categorical_accuracy: 0.6932\n",
            "Epoch 13/20\n",
            "1400/1400 [==============================] - 726s 518ms/step - loss: 0.6576 - categorical_accuracy: 0.7402 - val_loss: 0.8098 - val_categorical_accuracy: 0.6879\n",
            "Epoch 14/20\n",
            "1400/1400 [==============================] - 727s 519ms/step - loss: 0.6357 - categorical_accuracy: 0.7483 - val_loss: 0.8187 - val_categorical_accuracy: 0.6914\n"
          ]
        }
      ]
    },
    {
      "cell_type": "code",
      "source": [
        "accr = model.evaluate(X_test,y_test)\n",
        "print('Test set\\n  Loss: {:0.3f}\\n  Accuracy: {:0.3f}'.format(accr[0],accr[1]))"
      ],
      "metadata": {
        "colab": {
          "base_uri": "https://localhost:8080/"
        },
        "id": "fiSMJdQDzI0y",
        "outputId": "55f18c6c-2608-4083-b36b-9d1fcd155f5d"
      },
      "execution_count": 28,
      "outputs": [
        {
          "output_type": "stream",
          "name": "stdout",
          "text": [
            "188/188 [==============================] - 39s 194ms/step - loss: 0.7718 - categorical_accuracy: 0.7140\n",
            "Test set\n",
            "  Loss: 0.772\n",
            "  Accuracy: 0.714\n"
          ]
        }
      ]
    },
    {
      "cell_type": "code",
      "source": [
        "plt.title('Loss')\n",
        "plt.plot(history.history['loss'], label='train')\n",
        "plt.plot(history.history['val_loss'], label='test')\n",
        "plt.legend()\n",
        "plt.show();"
      ],
      "metadata": {
        "colab": {
          "base_uri": "https://localhost:8080/",
          "height": 281
        },
        "id": "xeDrcbquzgyr",
        "outputId": "da326e26-d609-472e-f9c2-0077b7a997a8"
      },
      "execution_count": 29,
      "outputs": [
        {
          "output_type": "display_data",
          "data": {
            "image/png": "[encoded data removed]",
            "text/plain": [
              "<Figure size 432x288 with 1 Axes>"
            ]
          },
          "metadata": {
            "needs_background": "light"
          }
        }
      ]
    },
    {
      "cell_type": "markdown",
      "source": [
        "###Test On Custom Data"
      ],
      "metadata": {
        "id": "OW2wszyIA1JB"
      }
    },
    {
      "cell_type": "code",
      "source": [
        "data = ['i still feel stupid to be in that class this is all cause off pbss fault']\n",
        "tokenizer = Tokenizer(num_words=15000, lower=True)\n",
        "seq = tokenizer.texts_to_sequences(data)\n",
        "padded = pad_sequences(seq, maxlen=35)\n",
        "pred = model.predict(padded)\n",
        "labels = ['joy', 'love', 'sadness', 'anger', 'fear', 'surprise']\n",
        "print(pred, labels[np.argmax(pred)])"
      ],
      "metadata": {
        "id": "dp_lyTlWU9hk",
        "colab": {
          "base_uri": "https://localhost:8080/"
        },
        "outputId": "c0dddb14-4b9e-44d0-9121-6b1de70ff140"
      },
      "execution_count": 33,
      "outputs": [
        {
          "output_type": "stream",
          "name": "stdout",
          "text": [
            "[[0.21674278 0.00936516 0.13311689 0.37561932 0.25754988 0.00760594]] anger\n"
          ]
        }
      ]
    },
    {
      "cell_type": "code",
      "source": [
        "def predict_sentiment(message):\n",
        "  seq = tokenizer.texts_to_sequences(message)\n",
        "  padded = pad_sequences(seq, maxlen=MAX_SEQUENCE_LENGTH)\n",
        "  pred = model.predict(padded)\n",
        "  labels = ['joy', 'love', 'sadness', 'anger', 'fear', 'surprise']\n",
        "  return(pred, labels[np.argmax(pred)])"
      ],
      "metadata": {
        "id": "Wd4s7DbZ42ft"
      },
      "execution_count": 30,
      "outputs": []
    },
    {
      "cell_type": "code",
      "source": [
        "m1 = ['i fell extremely comfortable with the group of people that i dont even need to hide myself ']\n",
        "m2 = ['i stole a book from one of my all time favorite authors and now i feel like a rotten person']\n",
        "\n",
        "\n",
        "print(predict_sentiment(m1))\n",
        "print(predict_sentiment(m2))\n"
      ],
      "metadata": {
        "colab": {
          "base_uri": "https://localhost:8080/"
        },
        "id": "e45-mniFzbJY",
        "outputId": "a0c7b60c-b60d-4ef4-fc06-ce5b89d4e24d"
      },
      "execution_count": 31,
      "outputs": [
        {
          "output_type": "stream",
          "name": "stdout",
          "text": [
            "(array([[0.14739415, 0.00412419, 0.15072691, 0.30419198, 0.3882751 ,\n",
            "        0.00528759]], dtype=float32), 'fear')\n",
            "(array([[9.9926940e-05, 1.2456632e-04, 9.9944490e-01, 7.6839315e-05,\n",
            "        2.2374345e-04, 3.0035515e-05]], dtype=float32), 'sadness')\n"
          ]
        }
      ]
    },
    {
      "cell_type": "code",
      "source": [
        "m3 = ['i feel a bit stressed even though all the things i have going on are fun']\n",
        "m4 = ['i feel happy and excited!']\n",
        "\n",
        "print(predict_sentiment(m3))\n",
        "print(predict_sentiment(m4))"
      ],
      "metadata": {
        "colab": {
          "base_uri": "https://localhost:8080/"
        },
        "id": "iBfMCw_HxKLC",
        "outputId": "f31a0998-ae92-41fd-dcbb-ddf4a290fabd"
      },
      "execution_count": 32,
      "outputs": [
        {
          "output_type": "stream",
          "name": "stdout",
          "text": [
            "(array([[9.9637610e-01, 1.6560064e-03, 3.1706283e-04, 3.5701200e-04,\n",
            "        1.0479202e-03, 2.4584791e-04]], dtype=float32), 'joy')\n",
            "(array([[0.31225443, 0.02866103, 0.21793771, 0.21762682, 0.20343359,\n",
            "        0.02008641]], dtype=float32), 'joy')\n"
          ]
        }
      ]
    },
    {
      "cell_type": "code",
      "source": [
        "from keras.models import load_model\n",
        "model.save('lstm_model.h5')"
      ],
      "metadata": {
        "id": "H91vPk8EpJFv"
      },
      "execution_count": 34,
      "outputs": []
    },
    {
      "cell_type": "code",
      "source": [
        ""
      ],
      "metadata": {
        "id": "jtN472RbxQM_"
      },
      "execution_count": null,
      "outputs": []
    }
  ]
}